{
 "cells": [
  {
   "cell_type": "markdown",
   "metadata": {},
   "source": [
    "# Problem 2: Numerical Solution to Logistic Regression"
   ]
  },
  {
   "cell_type": "markdown",
   "metadata": {},
   "source": [
    "### (1) Please form the cross-entropy error similar to the slides and find the optimum $β_0$"
   ]
  },
  {
   "cell_type": "markdown",
   "metadata": {},
   "source": [
    "In this part we are asked to use the following cross-entropy error function from the slides and find the optimum $β_0$ value:"
   ]
  },
  {
   "cell_type": "markdown",
   "metadata": {},
   "source": [
    "\n",
    "\\begin{equation*}\n",
    "\\epsilon(\\beta) = \\sum_{n=1}^N \\{ y_n  \\log \\left[ \\sigma\\left( \\beta^T x_n  \\right)  \\right] +  \n",
    "\\left( 1-y_n \\right) \\log \\left[ 1- \\sigma\\left( \\beta^T x_n  \\right) \\right]          \\}\n",
    "\\end{equation*}"
   ]
  },
  {
   "cell_type": "markdown",
   "metadata": {},
   "source": [
    "\\begin{equation*}\n",
    "\\beta^* = min\\epsilon(\\beta)\n",
    "\\end{equation*}"
   ]
  },
  {
   "cell_type": "markdown",
   "metadata": {},
   "source": [
    "For finding the minimum cross-entropy error, I choose to do derivative to the function"
   ]
  },
  {
   "cell_type": "markdown",
   "metadata": {},
   "source": [
    "\\begin{equation*}\n",
    "\\nabla\\epsilon(\\beta) = -\\frac{1}{\\sigma\\left( \\beta_0-3  \\right)}\\cdot \\sigma'\\left( \\beta_0-3   \\right) +\n",
    "\\frac{1}{1-\\sigma\\left( \\beta_0-1  \\right)}\\cdot \\sigma'\\left( \\beta_0-1   \\right)\n",
    "\\end{equation*}\n",
    "\n",
    "\n",
    "\\begin{equation*}\n",
    "Let\\space\\epsilon(\\beta) = 0\n",
    "\\end{equation*}"
   ]
  },
  {
   "cell_type": "markdown",
   "metadata": {},
   "source": [
    "\\begin{equation*}\n",
    "-\\left(1+e^{-\\beta_0+3}\\right)\\cdot\\frac{e^{-\\beta_0+3}}{(1+e^{-\\beta_0+3})^2} +\n",
    "\\frac{1}{1- \\frac {1}{1+e^{-\\beta_0+1}}}\\cdot\\frac{e^{-\\beta_0+1}}{(1+e^{-\\beta_0+1})^2} = 0\\space\n",
    "\\end{equation*}\n"
   ]
  },
  {
   "cell_type": "markdown",
   "metadata": {},
   "source": [
    "\\begin{equation*}\n",
    "set\\space a= e^{-\\beta_0}\n",
    "\\end{equation*}"
   ]
  },
  {
   "cell_type": "markdown",
   "metadata": {},
   "source": [
    "\\begin{equation*}\n",
    "\\frac{e^3a}{(1+e^3a)^2} - \\frac{1}{1+ea} = 0\n",
    "\\end{equation*}"
   ]
  },
  {
   "cell_type": "markdown",
   "metadata": {},
   "source": [
    "\\begin{equation*}\n",
    "e^3a+e^4a^2-1-e^3a =0 \n",
    "\\end{equation*}"
   ]
  },
  {
   "cell_type": "markdown",
   "metadata": {},
   "source": [
    "\\begin{equation*}\n",
    "e^4a^2 = 1\n",
    "\\end{equation*}"
   ]
  },
  {
   "cell_type": "markdown",
   "metadata": {},
   "source": [
    "\\begin{equation*}\n",
    "a = e^{-2} = e^{-\\beta_0}\n",
    "\\end{equation*}"
   ]
  },
  {
   "cell_type": "markdown",
   "metadata": {},
   "source": [
    "\\begin{equation*}\n",
    "\\beta_0 = 2\n",
    "\\end{equation*}"
   ]
  },
  {
   "cell_type": "markdown",
   "metadata": {},
   "source": [
    "### (2) What would be the model output for test data points?"
   ]
  },
  {
   "cell_type": "markdown",
   "metadata": {},
   "source": [
    "As we can see from the result, the model output 0.11920292 when x=-4 and output 0.99908895 when x=5.\n",
    "If we set the threshhold between 0.120~0.99, point1 would be judge as 0 and point2 would be judge as 1."
   ]
  },
  {
   "cell_type": "code",
   "execution_count": 14,
   "metadata": {},
   "outputs": [],
   "source": [
    "import numpy as np \n",
    "import matplotlib.pyplot as plt\n",
    "import math\n",
    "import csv\n",
    "import pandas as pd\n",
    "\n",
    "x_test = np.array([-4, 5])"
   ]
  },
  {
   "cell_type": "code",
   "execution_count": 15,
   "metadata": {},
   "outputs": [],
   "source": [
    "def predict(x):\n",
    "    return 1/(1+(math.e**(-2-x)))"
   ]
  },
  {
   "cell_type": "code",
   "execution_count": 17,
   "metadata": {},
   "outputs": [
    {
     "data": {
      "text/plain": [
       "array([0.11920292, 0.99908895])"
      ]
     },
     "execution_count": 17,
     "metadata": {},
     "output_type": "execute_result"
    }
   ],
   "source": [
    "predict(x_test)"
   ]
  },
  {
   "cell_type": "code",
   "execution_count": null,
   "metadata": {},
   "outputs": [],
   "source": []
  }
 ],
 "metadata": {
  "kernelspec": {
   "display_name": "Python 3",
   "language": "python",
   "name": "python3"
  },
  "language_info": {
   "codemirror_mode": {
    "name": "ipython",
    "version": 3
   },
   "file_extension": ".py",
   "mimetype": "text/x-python",
   "name": "python",
   "nbconvert_exporter": "python",
   "pygments_lexer": "ipython3",
   "version": "3.7.3"
  }
 },
 "nbformat": 4,
 "nbformat_minor": 2
}
