{
 "cells": [
  {
   "cell_type": "markdown",
   "metadata": {},
   "source": [
    "# Problem1"
   ]
  },
  {
   "cell_type": "markdown",
   "metadata": {},
   "source": [
    "1-1"
   ]
  },
  {
   "cell_type": "code",
   "execution_count": 1,
   "metadata": {},
   "outputs": [],
   "source": [
    "import numpy as np \n",
    "import matplotlib.pyplot as plt\n",
    "from sklearn.linear_model import LinearRegression\n",
    "from sklearn.preprocessing import PolynomialFeatures\n",
    "from scipy.optimize import curve_fit\n",
    "import math\n",
    "import statistics\n",
    "\n",
    "x_train = np.array([0, 2, 3, 5])\n",
    "y_train = np.array([1, 4, 9, 16])\n",
    "x_test = np.array([[1], [4]])\n",
    "y_test = np.array([[3], [12]])"
   ]
  },
  {
   "cell_type": "code",
   "execution_count": 2,
   "metadata": {},
   "outputs": [],
   "source": [
    "class Polynomial_Model:\n",
    "    b0=0\n",
    "    b1=0\n",
    "    b2=0\n",
    "    b3=0\n",
    "    b4=0\n",
    "    degree=0\n",
    "    def __init__(self, degree):\n",
    "        self.degree = degree\n",
    "    \n",
    "    \n",
    "    def train(self,  x, y):\n",
    "        if(self.degree == 0):\n",
    "            self.b0 = np.mean(y)\n",
    "        elif(self.degree == 1):\n",
    "            self.b0 = np.mean(y-x)\n",
    "            self.b1 = 1\n",
    "        elif(self.degree == 2):\n",
    "            x_sqrt_mean = np.mean(x**2)\n",
    "            x_sqrt_sum = np.sum(x**2)\n",
    "            \n",
    "            self.b2 = 1\n",
    "            self.b1 = (-np.dot(y, x)+(np.mean(y)-np.mean(x**2))*np.sum(x)+np.sum(x**3))/(np.mean(x)*np.sum(x)-np.sum(x**2))\n",
    "            self.b0 = np.mean(y)-self.b1*np.mean(x)-x_sqrt_mean\n",
    "        elif(self.degree == 3):\n",
    "            kk,jj = curve_fit(func_3, x, y)\n",
    "            self.b0 = kk[0]\n",
    "            self.b1 = kk[1]\n",
    "            self.b2 = kk[2]\n",
    "            self.b3 = 1\n",
    "        elif(self.degree == 4):\n",
    "            kk,jj = curve_fit(func_4, x, y)\n",
    "            self.b0 = kk[0]\n",
    "            self.b1 = kk[1]\n",
    "            self.b2 = kk[2]\n",
    "            self.b3 = kk[3]\n",
    "            self.b4 = 1\n",
    "    \n",
    "    \n",
    "    def predict(self, x):\n",
    "        if(self.degree == 0):\n",
    "            return self.b1*x+self.b0\n",
    "        elif(self.degree == 1):\n",
    "            return self.b1*x+self.b0\n",
    "        elif(self.degree == 2):\n",
    "            return self.b2*(x**2)+self.b1*x+self.b0\n",
    "        elif(self.degree == 3):\n",
    "            return self.b3*(x**3)+self.b2*(x**2)+self.b1*x+self.b0\n",
    "        elif(self.degree == 4):\n",
    "            return self.b4*(x**4)+self.b3*(x**3)+self.b2*(x**2)+self.b1*x+self.b0"
   ]
  },
  {
   "cell_type": "code",
   "execution_count": 3,
   "metadata": {},
   "outputs": [],
   "source": [
    "def func_3(x, a0, a1, a2):\n",
    "    return a0+a1*x+a2*(x**2)+(x**3)\n",
    "def func_4(x, a0, a1, a2, a3):\n",
    "    return a0+a1*x+a2*(x**2)+a3*(x**3)+(x**4)\n",
    "def RSS(y, y_hat):\n",
    "    rss=0\n",
    "    for i in range(len(y)):\n",
    "        rss = rss+(y[i]-y_hat[i])**2\n",
    "    return rss"
   ]
  },
  {
   "cell_type": "code",
   "execution_count": 4,
   "metadata": {},
   "outputs": [],
   "source": [
    "pm0 = Polynomial_Model(0)\n",
    "pm1 = Polynomial_Model(1)\n",
    "pm2 = Polynomial_Model(2)\n",
    "pm3 = Polynomial_Model(3)\n",
    "pm4 = Polynomial_Model(4)"
   ]
  },
  {
   "cell_type": "code",
   "execution_count": 5,
   "metadata": {},
   "outputs": [
    {
     "name": "stderr",
     "output_type": "stream",
     "text": [
      "/home/chih-yuan/anaconda3/lib/python3.7/site-packages/scipy/optimize/minpack.py:799: OptimizeWarning: Covariance of the parameters could not be estimated\n",
      "  category=OptimizeWarning)\n"
     ]
    }
   ],
   "source": [
    "pm0.train(x_train, y_train)\n",
    "pm1.train(x_train, y_train)\n",
    "pm2.train(x_train, y_train)\n",
    "pm3.train(x_train, y_train)\n",
    "pm4.train(x_train, y_train)"
   ]
  },
  {
   "cell_type": "code",
   "execution_count": 6,
   "metadata": {},
   "outputs": [
    {
     "data": {
      "text/plain": [
       "<matplotlib.legend.Legend at 0x7f07f34af4a8>"
      ]
     },
     "execution_count": 6,
     "metadata": {},
     "output_type": "execute_result"
    },
    {
     "data": {
      "image/png": "[encoded data removed]",
      "text/plain": [
       "<Figure size 432x288 with 1 Axes>"
      ]
     },
     "metadata": {
      "needs_background": "light"
     },
     "output_type": "display_data"
    }
   ],
   "source": [
    "plt.plot(x_test, y_test, 'ro', label ='testing data')\n",
    "plt.plot(x_train, y_train, 'bo', label ='training data')\n",
    "t= np.array([[i/10] for i in range(51)])\n",
    "plt.plot(t, pm0.predict(t), 'g', label ='d = 0')\n",
    "plt.plot(t, pm1.predict(t), 'c', label ='d = 1')\n",
    "plt.plot(t, pm2.predict(t), 'm', label ='d = 2')\n",
    "plt.plot(t, pm3.predict(t), 'y', label ='d = 3')\n",
    "plt.plot(t, pm4.predict(t), 'k', label ='d = 4')\n",
    "plt.legend(loc='upper left', prop={'size': 8})"
   ]
  },
  {
   "cell_type": "markdown",
   "metadata": {},
   "source": [
    "1-2"
   ]
  },
  {
   "cell_type": "code",
   "execution_count": 38,
   "metadata": {},
   "outputs": [],
   "source": [
    "def cal_bias_exp(pred, ground):\n",
    "    ret = 0\n",
    "    for i in range(len(pred)):\n",
    "        ret += (pred[i]-ground[i])**2\n",
    "    return ret\n",
    "def cal_variance(x):\n",
    "    return np.var(x)\n",
    "def cal_error(train, train_y):\n",
    "    return np.sum(np.abs(train-train_y))"
   ]
  },
  {
   "cell_type": "code",
   "execution_count": 39,
   "metadata": {},
   "outputs": [],
   "source": [
    "bias = [cal_bias_exp(pm0.predict(x_train), y_train), \n",
    "        cal_bias_exp(pm1.predict(x_train), y_train), \n",
    "        cal_bias_exp(pm2.predict(x_train), y_train), \n",
    "        cal_bias_exp(pm3.predict(x_train), y_train), \n",
    "        cal_bias_exp(pm4.predict(x_train), y_train)]"
   ]
  },
  {
   "cell_type": "code",
   "execution_count": 40,
   "metadata": {},
   "outputs": [],
   "source": [
    "var = [cal_variance(pm0.predict(x_train)), \n",
    "       cal_variance(pm1.predict(x_train)),\n",
    "       cal_variance(pm2.predict(x_train)), \n",
    "       cal_variance(pm3.predict(x_train)),\n",
    "       cal_variance(pm4.predict(x_train))]"
   ]
  },
  {
   "cell_type": "code",
   "execution_count": 41,
   "metadata": {},
   "outputs": [],
   "source": [
    "train_err = [cal_error(pm0.predict(x_train), y_train),\n",
    "         cal_error(pm1.predict(x_train), y_train),\n",
    "         cal_error(pm2.predict(x_train), y_train),\n",
    "         cal_error(pm3.predict(x_train), y_train),\n",
    "         cal_error(pm4.predict(x_train), y_train)]"
   ]
  },
  {
   "cell_type": "code",
   "execution_count": 42,
   "metadata": {},
   "outputs": [],
   "source": [
    "test_err = [cal_error(pm0.predict(x_test), y_test),\n",
    "         cal_error(pm1.predict(x_test), y_test),\n",
    "         cal_error(pm2.predict(x_test), y_test),\n",
    "         cal_error(pm3.predict(x_test), y_test),\n",
    "         cal_error(pm4.predict(x_test), y_test)]"
   ]
  },
  {
   "cell_type": "code",
   "execution_count": 48,
   "metadata": {},
   "outputs": [
    {
     "data": {
      "text/plain": [
       "[<matplotlib.lines.Line2D at 0x7f07f2d35fd0>]"
      ]
     },
     "execution_count": 48,
     "metadata": {},
     "output_type": "execute_result"
    },
    {
     "data": {
      "image/png": "[encoded data removed]",
      "text/plain": [
       "<Figure size 432x288 with 1 Axes>"
      ]
     },
     "metadata": {
      "needs_background": "light"
     },
     "output_type": "display_data"
    }
   ],
   "source": [
    "plt.plot([0,1,2,3,4], var, 'g', label ='variance')\n",
    "plt.plot([0,1,2,3,4], bias, 'b', label ='bias')\n",
    "plt.plot([0,1,2,3,4], train_err, 'r', label ='train_err')\n",
    "plt.plot([0,1,2,3,4], test_err, 'y', label ='test_err')\n",
    "plt.plot([0,1,2,3,4], [train_err[i]+test_err[i] for i in range(len(train_err))], 'c', label ='total_err')"
   ]
  },
  {
   "cell_type": "code",
   "execution_count": null,
   "metadata": {},
   "outputs": [],
   "source": [
    "import csv\n",
    "import pandas as pd\n",
    "from sklearn.model_selection import train_test_split\n",
    "from sklearn.linear_model import Ridge\n",
    "from sklearn.linear_model import Lasso\n",
    "from sklearn.linear_model import LinearRegression\n",
    "\n",
    "df = pd.read_csv('Smarket.csv', usecols=range(1,10), index_col=0, parse_dates=True)\n",
    "ridge = Ridge(alpha=0.0)\n",
    "lasso = Lasso(alpha=0.0)\n",
    "reg = LinearRegression()"
   ]
  },
  {
   "cell_type": "code",
   "execution_count": null,
   "metadata": {},
   "outputs": [],
   "source": [
    "X = df[['Lag1','Lag2']]\n",
    "y = df['Today']"
   ]
  },
  {
   "cell_type": "code",
   "execution_count": null,
   "metadata": {},
   "outputs": [],
   "source": [
    "ridge.fit(X,y)\n",
    "lasso.fit(X,y)\n",
    "reg.fit(X,y)"
   ]
  },
  {
   "cell_type": "markdown",
   "metadata": {},
   "source": [
    "# Problem2"
   ]
  },
  {
   "cell_type": "code",
   "execution_count": null,
   "metadata": {},
   "outputs": [],
   "source": []
  }
 ],
 "metadata": {
  "kernelspec": {
   "display_name": "Python 3",
   "language": "python",
   "name": "python3"
  },
  "language_info": {
   "codemirror_mode": {
    "name": "ipython",
    "version": 3
   },
   "file_extension": ".py",
   "mimetype": "text/x-python",
   "name": "python",
   "nbconvert_exporter": "python",
   "pygments_lexer": "ipython3",
   "version": "3.7.3"
  }
 },
 "nbformat": 4,
 "nbformat_minor": 2
}
