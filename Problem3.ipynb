{
 "cells": [
  {
   "cell_type": "code",
   "execution_count": 1,
   "metadata": {
    "collapsed": true
   },
   "outputs": [],
   "source": [
    "import numpy as np \n",
    "import matplotlib.pyplot as plt\n",
    "import math\n",
    "import csv\n",
    "import pandas as pd\n",
    "import seaborn as sns\n",
    "\n",
    "df = pd.read_csv('hw1_input.csv', parse_dates=True)"
   ]
  },
  {
   "cell_type": "markdown",
   "metadata": {},
   "source": [
    "3-1"
   ]
  },
  {
   "cell_type": "code",
   "execution_count": 2,
   "metadata": {
    "collapsed": false
   },
   "outputs": [
    {
     "data": {
      "text/plain": [
       "<seaborn.axisgrid.PairGrid at 0x110f081d0>"
      ]
     },
     "execution_count": 2,
     "metadata": {},
     "output_type": "execute_result"
    }
   ],
   "source": [
    "sns.pairplot(df)"
   ]
  },
  {
   "cell_type": "code",
   "execution_count": 3,
   "metadata": {
    "collapsed": false
   },
   "outputs": [
    {
     "data": {
      "text/html": [
       "<div>\n",
       "<table border=\"1\" class=\"dataframe\">\n",
       "  <thead>\n",
       "    <tr style=\"text-align: right;\">\n",
       "      <th></th>\n",
       "      <th>Age</th>\n",
       "      <th>Sex</th>\n",
       "      <th>Chest Pain</th>\n",
       "      <th>BP</th>\n",
       "      <th>Cholestoral</th>\n",
       "      <th>fasting blood sugar &gt; 120</th>\n",
       "      <th>resting ECG</th>\n",
       "      <th>max hr</th>\n",
       "      <th>angina</th>\n",
       "      <th>oldpeak</th>\n",
       "      <th>slope</th>\n",
       "      <th>major vessels</th>\n",
       "      <th>defect</th>\n",
       "      <th>heart disease</th>\n",
       "    </tr>\n",
       "  </thead>\n",
       "  <tbody>\n",
       "    <tr>\n",
       "      <th>0</th>\n",
       "      <td>70</td>\n",
       "      <td>Female</td>\n",
       "      <td>Abnormal</td>\n",
       "      <td>130</td>\n",
       "      <td>322</td>\n",
       "      <td>No</td>\n",
       "      <td>hyper</td>\n",
       "      <td>109</td>\n",
       "      <td>No</td>\n",
       "      <td>2.4</td>\n",
       "      <td>Flat</td>\n",
       "      <td>3</td>\n",
       "      <td>Normal</td>\n",
       "      <td>Yes</td>\n",
       "    </tr>\n",
       "    <tr>\n",
       "      <th>1</th>\n",
       "      <td>67</td>\n",
       "      <td>Male</td>\n",
       "      <td>Asymptomatic</td>\n",
       "      <td>115</td>\n",
       "      <td>564</td>\n",
       "      <td>No</td>\n",
       "      <td>hyper</td>\n",
       "      <td>160</td>\n",
       "      <td>No</td>\n",
       "      <td>1.6</td>\n",
       "      <td>Flat</td>\n",
       "      <td>0</td>\n",
       "      <td>reversible Defect</td>\n",
       "      <td>No</td>\n",
       "    </tr>\n",
       "    <tr>\n",
       "      <th>2</th>\n",
       "      <td>57</td>\n",
       "      <td>Female</td>\n",
       "      <td>Angina</td>\n",
       "      <td>124</td>\n",
       "      <td>261</td>\n",
       "      <td>No</td>\n",
       "      <td>norm</td>\n",
       "      <td>141</td>\n",
       "      <td>No</td>\n",
       "      <td>0.3</td>\n",
       "      <td>Up</td>\n",
       "      <td>0</td>\n",
       "      <td>reversible Defect</td>\n",
       "      <td>Yes</td>\n",
       "    </tr>\n",
       "    <tr>\n",
       "      <th>3</th>\n",
       "      <td>64</td>\n",
       "      <td>Female</td>\n",
       "      <td>Abnormal</td>\n",
       "      <td>128</td>\n",
       "      <td>263</td>\n",
       "      <td>No</td>\n",
       "      <td>norm</td>\n",
       "      <td>105</td>\n",
       "      <td>Yes</td>\n",
       "      <td>0.2</td>\n",
       "      <td>Flat</td>\n",
       "      <td>1</td>\n",
       "      <td>reversible Defect</td>\n",
       "      <td>No</td>\n",
       "    </tr>\n",
       "    <tr>\n",
       "      <th>4</th>\n",
       "      <td>74</td>\n",
       "      <td>Male</td>\n",
       "      <td>Angina</td>\n",
       "      <td>120</td>\n",
       "      <td>269</td>\n",
       "      <td>No</td>\n",
       "      <td>hyper</td>\n",
       "      <td>121</td>\n",
       "      <td>Yes</td>\n",
       "      <td>0.2</td>\n",
       "      <td>Up</td>\n",
       "      <td>1</td>\n",
       "      <td>Normal</td>\n",
       "      <td>No</td>\n",
       "    </tr>\n",
       "  </tbody>\n",
       "</table>\n",
       "</div>"
      ],
      "text/plain": [
       "   Age     Sex    Chest Pain   BP  Cholestoral fasting blood sugar > 120  \\\n",
       "0   70  Female      Abnormal  130          322                        No   \n",
       "1   67    Male  Asymptomatic  115          564                        No   \n",
       "2   57  Female        Angina  124          261                        No   \n",
       "3   64  Female      Abnormal  128          263                        No   \n",
       "4   74    Male        Angina  120          269                        No   \n",
       "\n",
       "  resting ECG  max hr angina  oldpeak slope  major vessels             defect  \\\n",
       "0       hyper     109     No      2.4  Flat              3             Normal   \n",
       "1       hyper     160     No      1.6  Flat              0  reversible Defect   \n",
       "2        norm     141     No      0.3    Up              0  reversible Defect   \n",
       "3        norm     105    Yes      0.2  Flat              1  reversible Defect   \n",
       "4       hyper     121    Yes      0.2    Up              1             Normal   \n",
       "\n",
       "  heart disease  \n",
       "0           Yes  \n",
       "1            No  \n",
       "2           Yes  \n",
       "3            No  \n",
       "4            No  "
      ]
     },
     "execution_count": 3,
     "metadata": {},
     "output_type": "execute_result"
    }
   ],
   "source": [
    "df.head(5)"
   ]
  },
  {
   "cell_type": "markdown",
   "metadata": {},
   "source": [
    "3-2"
   ]
  },
  {
   "cell_type": "code",
   "execution_count": 30,
   "metadata": {
    "collapsed": false
   },
   "outputs": [],
   "source": [
    "from sklearn.preprocessing import LabelEncoder\n",
    "\n",
    "def preprocessing(x):\n",
    "    le = LabelEncoder()\n",
    "    le.fit(x)\n",
    "    data = le.transform(x) \n",
    "    return pd.Series(data)\n",
    "\n",
    "df['Sex'] = preprocessing(df['Sex'])\n",
    "df['Chest Pain'] = preprocessing(df['Chest Pain'])\n",
    "df['fasting blood sugar > 120'] = preprocessing(df['fasting blood sugar > 120'])\n",
    "df['resting ECG'] = preprocessing(df['resting ECG'])\n",
    "df['angina'] = preprocessing(df['angina'])\n",
    "df['slope'] = preprocessing(df['slope'])\n",
    "df['defect'] = preprocessing(df['defect'])\n",
    "df['heart disease'] = preprocessing(df['heart disease'])"
   ]
  },
  {
   "cell_type": "code",
   "execution_count": 31,
   "metadata": {
    "collapsed": false
   },
   "outputs": [
    {
     "data": {
      "text/html": [
       "<div>\n",
       "<table border=\"1\" class=\"dataframe\">\n",
       "  <thead>\n",
       "    <tr style=\"text-align: right;\">\n",
       "      <th></th>\n",
       "      <th>Age</th>\n",
       "      <th>Sex</th>\n",
       "      <th>Chest Pain</th>\n",
       "      <th>BP</th>\n",
       "      <th>Cholestoral</th>\n",
       "      <th>fasting blood sugar &gt; 120</th>\n",
       "      <th>resting ECG</th>\n",
       "      <th>max hr</th>\n",
       "      <th>angina</th>\n",
       "      <th>oldpeak</th>\n",
       "      <th>slope</th>\n",
       "      <th>major vessels</th>\n",
       "      <th>defect</th>\n",
       "      <th>heart disease</th>\n",
       "    </tr>\n",
       "  </thead>\n",
       "  <tbody>\n",
       "    <tr>\n",
       "      <th>0</th>\n",
       "      <td>70</td>\n",
       "      <td>0</td>\n",
       "      <td>0</td>\n",
       "      <td>130</td>\n",
       "      <td>322</td>\n",
       "      <td>0</td>\n",
       "      <td>0</td>\n",
       "      <td>109</td>\n",
       "      <td>0</td>\n",
       "      <td>2.4</td>\n",
       "      <td>1</td>\n",
       "      <td>3</td>\n",
       "      <td>1</td>\n",
       "      <td>1</td>\n",
       "    </tr>\n",
       "    <tr>\n",
       "      <th>1</th>\n",
       "      <td>67</td>\n",
       "      <td>1</td>\n",
       "      <td>2</td>\n",
       "      <td>115</td>\n",
       "      <td>564</td>\n",
       "      <td>0</td>\n",
       "      <td>0</td>\n",
       "      <td>160</td>\n",
       "      <td>0</td>\n",
       "      <td>1.6</td>\n",
       "      <td>1</td>\n",
       "      <td>0</td>\n",
       "      <td>2</td>\n",
       "      <td>0</td>\n",
       "    </tr>\n",
       "    <tr>\n",
       "      <th>2</th>\n",
       "      <td>57</td>\n",
       "      <td>0</td>\n",
       "      <td>1</td>\n",
       "      <td>124</td>\n",
       "      <td>261</td>\n",
       "      <td>0</td>\n",
       "      <td>2</td>\n",
       "      <td>141</td>\n",
       "      <td>0</td>\n",
       "      <td>0.3</td>\n",
       "      <td>2</td>\n",
       "      <td>0</td>\n",
       "      <td>2</td>\n",
       "      <td>1</td>\n",
       "    </tr>\n",
       "    <tr>\n",
       "      <th>3</th>\n",
       "      <td>64</td>\n",
       "      <td>0</td>\n",
       "      <td>0</td>\n",
       "      <td>128</td>\n",
       "      <td>263</td>\n",
       "      <td>0</td>\n",
       "      <td>2</td>\n",
       "      <td>105</td>\n",
       "      <td>1</td>\n",
       "      <td>0.2</td>\n",
       "      <td>1</td>\n",
       "      <td>1</td>\n",
       "      <td>2</td>\n",
       "      <td>0</td>\n",
       "    </tr>\n",
       "    <tr>\n",
       "      <th>4</th>\n",
       "      <td>74</td>\n",
       "      <td>1</td>\n",
       "      <td>1</td>\n",
       "      <td>120</td>\n",
       "      <td>269</td>\n",
       "      <td>0</td>\n",
       "      <td>0</td>\n",
       "      <td>121</td>\n",
       "      <td>1</td>\n",
       "      <td>0.2</td>\n",
       "      <td>2</td>\n",
       "      <td>1</td>\n",
       "      <td>1</td>\n",
       "      <td>0</td>\n",
       "    </tr>\n",
       "  </tbody>\n",
       "</table>\n",
       "</div>"
      ],
      "text/plain": [
       "   Age  Sex  Chest Pain   BP  Cholestoral  fasting blood sugar > 120  \\\n",
       "0   70    0           0  130          322                          0   \n",
       "1   67    1           2  115          564                          0   \n",
       "2   57    0           1  124          261                          0   \n",
       "3   64    0           0  128          263                          0   \n",
       "4   74    1           1  120          269                          0   \n",
       "\n",
       "   resting ECG  max hr  angina  oldpeak  slope  major vessels  defect  \\\n",
       "0            0     109       0      2.4      1              3       1   \n",
       "1            0     160       0      1.6      1              0       2   \n",
       "2            2     141       0      0.3      2              0       2   \n",
       "3            2     105       1      0.2      1              1       2   \n",
       "4            0     121       1      0.2      2              1       1   \n",
       "\n",
       "   heart disease  \n",
       "0              1  \n",
       "1              0  \n",
       "2              1  \n",
       "3              0  \n",
       "4              0  "
      ]
     },
     "execution_count": 31,
     "metadata": {},
     "output_type": "execute_result"
    }
   ],
   "source": [
    "df.head(5)"
   ]
  },
  {
   "cell_type": "code",
   "execution_count": 32,
   "metadata": {
    "collapsed": true
   },
   "outputs": [],
   "source": [
    "x = df[['Age', 'Sex', 'Chest Pain', 'BP', 'Cholestoral', 'fasting blood sugar > 120',\n",
    "      'resting ECG', 'max hr', 'angina', 'oldpeak', 'slope', 'major vessels', 'defect']]\n",
    "y = df[['heart disease']]"
   ]
  },
  {
   "cell_type": "code",
   "execution_count": 101,
   "metadata": {
    "collapsed": false
   },
   "outputs": [],
   "source": [
    "import statistics\n",
    "from sklearn.linear_model import Lasso\n",
    "from sklearn.linear_model import Ridge\n",
    "from sklearn.model_selection import train_test_split\n",
    "\n",
    "n_bootstraps = 1000\n",
    "\n",
    "las = Lasso(alpha=1.0)\n",
    "rid = Ridge(alpha=1.0)\n",
    "l_coef = []\n",
    "r_coef = []\n",
    "\n",
    "for _ in range(n_bootstraps):\n",
    "    x_train, x_test, y_train, y_test = train_test_split(x, y, test_size = 0.2)\n",
    "    las.fit(x_train, y_train)\n",
    "    rid.fit(x_train, y_train)\n",
    "    l_coef.append(las.coef_)\n",
    "    r_coef.append(rid.coef_)"
   ]
  },
  {
   "cell_type": "code",
   "execution_count": 102,
   "metadata": {
    "collapsed": false
   },
   "outputs": [],
   "source": [
    "tmp = [[0, 2, 3, 5],[1, 4, 9, 16]]"
   ]
  },
  {
   "cell_type": "code",
   "execution_count": 103,
   "metadata": {
    "collapsed": false
   },
   "outputs": [],
   "source": [
    "lasso_coef_mean = np.mean(np.asarray(l_coef), axis=0)\n",
    "ridge_coef_mean = np.mean(np.asarray(r_coef[0]), axis=0)"
   ]
  },
  {
   "cell_type": "code",
   "execution_count": 104,
   "metadata": {
    "collapsed": false
   },
   "outputs": [
    {
     "data": {
      "image/png": "[encoded data removed]",
      "text/plain": [
       "<matplotlib.figure.Figure at 0x1182fe710>"
      ]
     },
     "metadata": {},
     "output_type": "display_data"
    }
   ],
   "source": [
    "plt.plot([1,2,3,4,5,6,7,8,9,10,11,12,13], lasso_coef_mean, 'bo', label = 'lasso')\n",
    "plt.plot([1,2,3,4,5,6,7,8,9,10,11,12,13], ridge_coef_mean, 'ro', label = 'ridge')\n",
    "plt.legend(prop={'size': 20})\n",
    "plt.show()"
   ]
  },
  {
   "cell_type": "code",
   "execution_count": null,
   "metadata": {
    "collapsed": true
   },
   "outputs": [],
   "source": []
  }
 ],
 "metadata": {
  "kernelspec": {
   "display_name": "Python 3",
   "language": "python",
   "name": "python3"
  },
  "language_info": {
   "codemirror_mode": {
    "name": "ipython",
    "version": 3
   },
   "file_extension": ".py",
   "mimetype": "text/x-python",
   "name": "python",
   "nbconvert_exporter": "python",
   "pygments_lexer": "ipython3",
   "version": "3.6.0"
  }
 },
 "nbformat": 4,
 "nbformat_minor": 2
}
