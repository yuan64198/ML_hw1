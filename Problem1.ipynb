{
 "cells": [
  {
   "cell_type": "markdown",
   "metadata": {},
   "source": [
    "# Problem1"
   ]
  },
  {
   "cell_type": "markdown",
   "metadata": {},
   "source": [
    "1-1"
   ]
  },
  {
   "cell_type": "code",
   "execution_count": 1,
   "metadata": {
    "collapsed": true
   },
   "outputs": [],
   "source": [
    "import numpy as np \n",
    "import matplotlib.pyplot as plt\n",
    "from sklearn.linear_model import LinearRegression\n",
    "from sklearn.preprocessing import PolynomialFeatures\n",
    "from scipy.optimize import curve_fit\n",
    "import math\n",
    "import statistics\n",
    "\n",
    "x_train = np.array([0, 2, 3, 5])\n",
    "y_train = np.array([1, 4, 9, 16])\n",
    "x_test = np.array([[1], [4]])\n",
    "y_test = np.array([[3], [12]])"
   ]
  },
  {
   "cell_type": "code",
   "execution_count": 2,
   "metadata": {
    "collapsed": true
   },
   "outputs": [],
   "source": [
    "class Polynomial_Model:\n",
    "    b0=0\n",
    "    b1=0\n",
    "    b2=0\n",
    "    b3=0\n",
    "    b4=0\n",
    "    degree=0\n",
    "    def __init__(self, degree):\n",
    "        self.degree = degree\n",
    "    \n",
    "    \n",
    "    def train(self,  x, y):\n",
    "        if(self.degree == 0):\n",
    "            self.b0 = np.mean(y)\n",
    "        elif(self.degree == 1):\n",
    "            self.b0 = np.mean(y-x)\n",
    "            self.b1 = 1\n",
    "        elif(self.degree == 2):\n",
    "            x_sqrt_mean = np.mean(x**2)\n",
    "            x_sqrt_sum = np.sum(x**2)\n",
    "            \n",
    "            self.b2 = 1\n",
    "            self.b1 = (-np.dot(y, x)+(np.mean(y)-np.mean(x**2))*np.sum(x)+np.sum(x**3))/(np.mean(x)*np.sum(x)-np.sum(x**2))\n",
    "            self.b0 = np.mean(y)-self.b1*np.mean(x)-x_sqrt_mean\n",
    "        elif(self.degree == 3):\n",
    "            kk,jj = curve_fit(func_3, x, y)\n",
    "            self.b0 = kk[0]\n",
    "            self.b1 = kk[1]\n",
    "            self.b2 = kk[2]\n",
    "            self.b3 = 1\n",
    "        elif(self.degree == 4):\n",
    "            kk,jj = curve_fit(func_4, x, y)\n",
    "            self.b0 = kk[0]\n",
    "            self.b1 = kk[1]\n",
    "            self.b2 = kk[2]\n",
    "            self.b3 = kk[3]\n",
    "            self.b4 = 1\n",
    "    \n",
    "    \n",
    "    def predict(self, x):\n",
    "        if(self.degree == 0):\n",
    "            return self.b1*x+self.b0\n",
    "        elif(self.degree == 1):\n",
    "            return self.b1*x+self.b0\n",
    "        elif(self.degree == 2):\n",
    "            return self.b2*(x**2)+self.b1*x+self.b0\n",
    "        elif(self.degree == 3):\n",
    "            return self.b3*(x**3)+self.b2*(x**2)+self.b1*x+self.b0\n",
    "        elif(self.degree == 4):\n",
    "            return self.b4*(x**4)+self.b3*(x**3)+self.b2*(x**2)+self.b1*x+self.b0"
   ]
  },
  {
   "cell_type": "code",
   "execution_count": 3,
   "metadata": {
    "collapsed": true
   },
   "outputs": [],
   "source": [
    "def func_3(x, a0, a1, a2):\n",
    "    return a0+a1*x+a2*(x**2)+(x**3)\n",
    "def func_4(x, a0, a1, a2, a3):\n",
    "    return a0+a1*x+a2*(x**2)+a3*(x**3)+(x**4)\n",
    "def RSS(y, y_hat):\n",
    "    rss=0\n",
    "    for i in range(len(y)):\n",
    "        rss = rss+(y[i]-y_hat[i])**2\n",
    "    return rss"
   ]
  },
  {
   "cell_type": "code",
   "execution_count": 4,
   "metadata": {
    "collapsed": true
   },
   "outputs": [],
   "source": [
    "pm0 = Polynomial_Model(0)\n",
    "pm1 = Polynomial_Model(1)\n",
    "pm2 = Polynomial_Model(2)\n",
    "pm3 = Polynomial_Model(3)\n",
    "pm4 = Polynomial_Model(4)"
   ]
  },
  {
   "cell_type": "code",
   "execution_count": 5,
   "metadata": {
    "collapsed": false
   },
   "outputs": [
    {
     "name": "stderr",
     "output_type": "stream",
     "text": [
      "/Users/yuan64198/anaconda3/lib/python3.6/site-packages/scipy/optimize/minpack.py:715: OptimizeWarning: Covariance of the parameters could not be estimated\n",
      "  category=OptimizeWarning)\n"
     ]
    }
   ],
   "source": [
    "pm0.train(x_train, y_train)\n",
    "pm1.train(x_train, y_train)\n",
    "pm2.train(x_train, y_train)\n",
    "pm3.train(x_train, y_train)\n",
    "pm4.train(x_train, y_train)"
   ]
  },
  {
   "cell_type": "code",
   "execution_count": 18,
   "metadata": {
    "collapsed": false
   },
   "outputs": [
    {
     "data": {
      "image/png": "[encoded data removed]",
      "text/plain": [
       "<matplotlib.figure.Figure at 0x110b7ac50>"
      ]
     },
     "metadata": {},
     "output_type": "display_data"
    }
   ],
   "source": [
    "plt.plot(x_test, y_test, 'ro', label ='testing data')\n",
    "plt.plot(x_train, y_train, 'bo', label ='training data')\n",
    "t= np.array([[i/10] for i in range(51)])\n",
    "plt.plot(t, pm0.predict(t), 'g', label ='d = 0')\n",
    "plt.plot(t, pm1.predict(t), 'c', label ='d = 1')\n",
    "plt.plot(t, pm2.predict(t), 'm', label ='d = 2')\n",
    "plt.plot(t, pm3.predict(t), 'y', label ='d = 3')\n",
    "plt.plot(t, pm4.predict(t), 'k', label ='d = 4')\n",
    "plt.legend(loc='upper left', prop={'size': 8})\n",
    "plt.show()"
   ]
  },
  {
   "cell_type": "markdown",
   "metadata": {},
   "source": [
    "1-2"
   ]
  },
  {
   "cell_type": "code",
   "execution_count": 10,
   "metadata": {
    "collapsed": false
   },
   "outputs": [],
   "source": [
    "def cal_rss(pred, ground):\n",
    "    ret = 0\n",
    "    for i in range(len(pred)):\n",
    "        ret += (pred[i]-ground[i])**2\n",
    "    return ret\n",
    "def cal_variance(x):\n",
    "    return np.var(x)\n",
    "def cal_error(x, y):\n",
    "    return cal_variance(x)+cal_bias(x, y)\n",
    "def cal_bias(x, y):\n",
    "    ret = 0\n",
    "    for i in range(len(x)):\n",
    "        ret+= np.abs(x[i]-y[i])\n",
    "    return ret"
   ]
  },
  {
   "cell_type": "code",
   "execution_count": 19,
   "metadata": {
    "collapsed": false
   },
   "outputs": [],
   "source": [
    "bias_sqrt = [ \n",
    "        cal_bias(pm1.predict(x_train), y_train)**2, \n",
    "        cal_bias(pm2.predict(x_train), y_train)**2, \n",
    "        cal_bias(pm3.predict(x_train), y_train)**2, \n",
    "        cal_bias(pm4.predict(x_train), y_train)**2]"
   ]
  },
  {
   "cell_type": "code",
   "execution_count": 20,
   "metadata": {
    "collapsed": true
   },
   "outputs": [],
   "source": [
    "var = [ \n",
    "       cal_variance(pm1.predict(x_train)),\n",
    "       cal_variance(pm2.predict(x_train)), \n",
    "       cal_variance(pm3.predict(x_train)),\n",
    "       cal_variance(pm4.predict(x_train))]"
   ]
  },
  {
   "cell_type": "code",
   "execution_count": 21,
   "metadata": {
    "collapsed": true
   },
   "outputs": [],
   "source": [
    "train_err = [\n",
    "         cal_error(pm1.predict(x_train), y_train),\n",
    "         cal_error(pm2.predict(x_train), y_train),\n",
    "         cal_error(pm3.predict(x_train), y_train),\n",
    "         cal_error(pm4.predict(x_train), y_train)]"
   ]
  },
  {
   "cell_type": "code",
   "execution_count": 22,
   "metadata": {
    "collapsed": true
   },
   "outputs": [],
   "source": [
    "test_err = [\n",
    "         cal_error(pm1.predict(x_test), y_test),\n",
    "         cal_error(pm2.predict(x_test), y_test),\n",
    "         cal_error(pm3.predict(x_test), y_test),\n",
    "         cal_error(pm4.predict(x_test), y_test)]"
   ]
  },
  {
   "cell_type": "code",
   "execution_count": 26,
   "metadata": {
    "collapsed": false
   },
   "outputs": [
    {
     "data": {
      "image/png": "[encoded data removed]",
      "text/plain": [
       "<matplotlib.figure.Figure at 0x110d494e0>"
      ]
     },
     "metadata": {},
     "output_type": "display_data"
    }
   ],
   "source": [
    "plt.plot([1,2,3,4], var, 'g', label ='variance')\n",
    "plt.plot([1,2,3,4], bias_sqrt, 'b', label ='bias')\n",
    "plt.plot([1,2,3,4], train_err, 'r', label ='train_err')\n",
    "plt.plot([1,2,3,4], test_err, 'y', label ='test_err')\n",
    "plt.plot([1,2,3,4], [train_err[i]+test_err[i] for i in range(len(train_err))], 'c', label ='total_err')\n",
    "plt.legend(loc='upper right', prop={'size': 12})\n",
    "plt.show()"
   ]
  },
  {
   "cell_type": "markdown",
   "metadata": {},
   "source": [
    "1-4"
   ]
  },
  {
   "cell_type": "code",
   "execution_count": 27,
   "metadata": {
    "collapsed": true
   },
   "outputs": [],
   "source": [
    "import csv\n",
    "import pandas as pd\n",
    "from sklearn.model_selection import train_test_split\n",
    "from sklearn.linear_model import LinearRegression\n",
    "from sklearn.model_selection import cross_val_score\n",
    "from scipy.optimize import minimize\n",
    "from sklearn.model_selection import KFold\n",
    "\n",
    "def cost_function(params, X, y, p):\n",
    "    error_vector = y - np.dot(X, params)\n",
    "    return np.linalg.norm(error_vector, ord=p)\n",
    "\n",
    "df = pd.read_csv('Smarket.csv', usecols=range(1,10), index_col=0, parse_dates=True)\n",
    "X = df[['Lag1','Lag2']]\n",
    "y = df['Today']"
   ]
  },
  {
   "cell_type": "code",
   "execution_count": 28,
   "metadata": {
    "collapsed": true,
    "scrolled": true
   },
   "outputs": [],
   "source": [
    "reg_l1 = minimize(cost_function, [0.5,0.5], args=(X.values, y.values, 1))\n",
    "reg_l2 = minimize(cost_function, [0.5,0.5], args=(X.values, y.values, 2))"
   ]
  },
  {
   "cell_type": "code",
   "execution_count": 29,
   "metadata": {
    "collapsed": true
   },
   "outputs": [],
   "source": [
    "def fit(X, params):\n",
    "    return X.dot(params)"
   ]
  },
  {
   "cell_type": "code",
   "execution_count": 34,
   "metadata": {
    "collapsed": true
   },
   "outputs": [],
   "source": [
    "def cross_validation( X, y, cv):\n",
    "    #Here we can discuss the diff between shuffle and non-shuffle\n",
    "    kf = KFold(n_splits=cv,shuffle=False)\n",
    "    rss1=0\n",
    "    rss2=0\n",
    "    for train_index, test_index in kf.split(X):\n",
    "        X_train, X_test = X[train_index], X[test_index]\n",
    "        y_train, y_test = y[train_index], y[test_index]\n",
    "        #TODO: add reg func l1 l2 here\n",
    "        reg_l1 = minimize(cost_function, [300,300], args=(X_train, y_train, 1))\n",
    "        reg_l2 = minimize(cost_function, [300,300], args=(X_train, y_train, 2))\n",
    "        \n",
    "        tmp = cal_rss(fit(X_test, reg_l1.x), y_test)\n",
    "        print(\"L1 norm cv RSS:\")\n",
    "        print(tmp)\n",
    "        rss1+=tmp\n",
    "        tmp = cal_rss(fit(X_test, reg_l2.x), y_test)\n",
    "        print(\"L2 norm cv RSS:\")\n",
    "        print(tmp) \n",
    "        rss2+=tmp\n",
    "    print(\"Mean RSS of cross validation\")\n",
    "    print(rss1/cv)\n",
    "    print(rss2/cv)"
   ]
  },
  {
   "cell_type": "code",
   "execution_count": 35,
   "metadata": {
    "collapsed": false,
    "scrolled": true
   },
   "outputs": [
    {
     "name": "stdout",
     "output_type": "stream",
     "text": [
      "L1 norm cv RSS:\n",
      "422.8361149664075\n",
      "L2 norm cv RSS:\n",
      "421.627977427969\n",
      "L1 norm cv RSS:\n",
      "697.743646789782\n",
      "L2 norm cv RSS:\n",
      "695.6391042661398\n",
      "L1 norm cv RSS:\n",
      "269.2481590881537\n",
      "L2 norm cv RSS:\n",
      "272.1310003625963\n",
      "L1 norm cv RSS:\n",
      "123.52338619172684\n",
      "L2 norm cv RSS:\n",
      "123.34939659041774\n",
      "L1 norm cv RSS:\n",
      "102.51181546850891\n",
      "L2 norm cv RSS:\n",
      "102.90499363188384\n",
      "Mean RSS of cross validation\n",
      "323.1726245009158\n",
      "323.13049445580134\n"
     ]
    }
   ],
   "source": [
    "cross_validation( X.values, y.values, 5)"
   ]
  },
  {
   "cell_type": "code",
   "execution_count": null,
   "metadata": {
    "collapsed": true
   },
   "outputs": [],
   "source": []
  }
 ],
 "metadata": {
  "kernelspec": {
   "display_name": "Python 3",
   "language": "python",
   "name": "python3"
  },
  "language_info": {
   "codemirror_mode": {
    "name": "ipython",
    "version": 3
   },
   "file_extension": ".py",
   "mimetype": "text/x-python",
   "name": "python",
   "nbconvert_exporter": "python",
   "pygments_lexer": "ipython3",
   "version": "3.6.0"
  }
 },
 "nbformat": 4,
 "nbformat_minor": 2
}
